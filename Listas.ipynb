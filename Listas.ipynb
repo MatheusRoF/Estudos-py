{
 "cells": [
  {
   "cell_type": "markdown",
   "metadata": {},
   "source": [
    "# Listas:\n",
    "\n",
    "> lista = [1,2,3,4,5]"
   ]
  },
  {
   "cell_type": "code",
   "execution_count": 74,
   "metadata": {},
   "outputs": [
    {
     "name": "stdout",
     "output_type": "stream",
     "text": [
      "mouse [100, 50, 5]\n"
     ]
    }
   ],
   "source": [
    "produtos = ['tv', 'celular', 'mouse']\n",
    "vendas = [100, 50, 5]\n",
    "\n",
    "print(produtos[2], vendas)"
   ]
  },
  {
   "cell_type": "code",
   "execution_count": 75,
   "metadata": {},
   "outputs": [
    {
     "name": "stdout",
     "output_type": "stream",
     "text": [
      "Quantidade em estoque da geladeira é de: 180\n",
      "Temos 100 unidades de tv no estoque\n"
     ]
    }
   ],
   "source": [
    "produtos = ['tv', 'celular', 'tablet', 'mouse', 'teclado', 'geladeira', 'forno']\n",
    "estoque = [100, 150, 100, 120, 70, 180, 80]\n",
    "\n",
    "i = produtos.index('geladeira')\n",
    "qtde_estoque = estoque[i]\n",
    "\n",
    "print('Quantidade em estoque da geladeira é de: {}'.format(qtde_estoque))\n",
    "\n",
    "produto = input('Insira o nome do produto em letra minúscula')\n",
    "if produto in produtos:\n",
    "    i = produtos.index(produto)\n",
    "    qtde_estoque = estoque[i]\n",
    "    print('Temos {} unidades de {} no estoque'.format(qtde_estoque, produto))\n",
    "else:\n",
    "    print('{} não existe no estoque'.format(produto))"
   ]
  },
  {
   "cell_type": "code",
   "execution_count": 76,
   "metadata": {},
   "outputs": [
    {
     "name": "stdout",
     "output_type": "stream",
     "text": [
      "0\n",
      "Matheus\n"
     ]
    }
   ],
   "source": [
    "nome = 'Matheus'\n",
    "lista_nome = [nome]\n",
    "i = lista_nome.index('Matheus')\n",
    "print(i)\n",
    "print(lista_nome[0])\n"
   ]
  },
  {
   "cell_type": "markdown",
   "metadata": {},
   "source": [
    "# Adicionar e Remover itens de uma lista\n",
    "\n",
    "Adicionar:<br>\n",
    "lista.append(item)\n",
    "\n",
    "Remover:<br>\n",
    "item_removido = lista.pop(indice)<br>\n",
    "lista.remove(item)\n",
    "\n",
    "- obs: Erro<br>\n",
    "try:\n",
    "    tentar fazer <br>\n",
    "except:\n",
    "    caso dê errado"
   ]
  },
  {
   "cell_type": "code",
   "execution_count": 77,
   "metadata": {},
   "outputs": [
    {
     "name": "stdout",
     "output_type": "stream",
     "text": [
      "['apple tv 4k', 'mac', 'iphone x', 'IPad', 'apple watch', 'mac book', 'airpods']\n",
      "['apple tv 4k', 'iphone x', 'IPad', 'apple watch', 'mac book', 'airpods']\n",
      "['apple tv 4k', 'iphone x', 'IPad', 'apple watch', 'mac book']\n",
      "['apple tv 4k', 'iphone x', 'apple watch', 'mac book']\n",
      "['apple tv 4k', 'apple watch', 'mac book']\n",
      "não remover duas vezes\n"
     ]
    }
   ],
   "source": [
    "produtos = ['apple tv', 'mac', 'iphone x', 'IPad', 'apple watch', 'mac book', 'airpods']\n",
    "\n",
    "# substituir\n",
    "produtos[0] = 'apple tv 4k'\n",
    "print(produtos)\n",
    "\n",
    "#remover\n",
    "produtos.remove('mac')\n",
    "print(produtos)\n",
    "\n",
    "#pop\n",
    "produtos.pop() #-1\n",
    "print(produtos)\n",
    "\n",
    "#usando nome\n",
    "produtos.remove('IPad')\n",
    "print(produtos)\n",
    "\n",
    "#usando if\n",
    "if 'iphone x' in produtos:\n",
    "    produtos.remove('iphone x')\n",
    "    print(produtos)\n",
    "else:\n",
    "    print('não remover duas vezes')\n",
    "\n",
    "#segunda vez\n",
    "\n",
    "if 'iphone x' in produtos:\n",
    "    produtos.remove('iphone x')\n",
    "    print(produtos)\n",
    "else:\n",
    "    print('não remover duas vezes')"
   ]
  },
  {
   "cell_type": "markdown",
   "metadata": {},
   "source": [
    "# Tratando erros"
   ]
  },
  {
   "cell_type": "code",
   "execution_count": 78,
   "metadata": {},
   "outputs": [
    {
     "name": "stdout",
     "output_type": "stream",
     "text": [
      "O produto não existe na lista\n",
      "['apple tv 4k', 'apple watch', 'mac book']\n"
     ]
    }
   ],
   "source": [
    "try: #nao trava o codigo\n",
    "    produtos.remove('macos book')\n",
    "except:\n",
    "    print('O produto não existe na lista')\n",
    "\n",
    "print(produtos)"
   ]
  },
  {
   "cell_type": "markdown",
   "metadata": {},
   "source": [
    "# Maior/ Menor e tamanho da lista"
   ]
  },
  {
   "cell_type": "code",
   "execution_count": 79,
   "metadata": {},
   "outputs": [
    {
     "name": "stdout",
     "output_type": "stream",
     "text": [
      "mac book apple tv 4k 2\n"
     ]
    }
   ],
   "source": [
    "maior = max(produtos)\n",
    "imaior = produtos.index(maior)\n",
    "menor = min(produtos)\n",
    "\n",
    "print(maior, menor, imaior)"
   ]
  },
  {
   "cell_type": "markdown",
   "metadata": {},
   "source": [
    "# Juntar listas e ordenar\n",
    "\n",
    "- extends : junta <br>\n",
    "- sort : ordena <br>\n",
    "- '+' cria terceira lista<br\n",
    "\n",
    "OBS: append adiciona um elemento\n",
    "\n"
   ]
  },
  {
   "cell_type": "code",
   "execution_count": 80,
   "metadata": {},
   "outputs": [
    {
     "name": "stdout",
     "output_type": "stream",
     "text": [
      "['apple tv 4k', 'apple watch', 'mac book']\n"
     ]
    }
   ],
   "source": [
    "produtos.sort() #reverse=True\n",
    "print(produtos) #tabela ASC I"
   ]
  },
  {
   "cell_type": "code",
   "execution_count": 81,
   "metadata": {},
   "outputs": [
    {
     "name": "stdout",
     "output_type": "stream",
     "text": [
      "apple tv\n",
      "mac\n",
      "iphone x\n",
      "IPad\n",
      "apple watch\n",
      "mac book\n",
      "airpods\n",
      "Matheus Rodrigues ['Matheus', 'Rodrigues']\n"
     ]
    }
   ],
   "source": [
    "produtos = ['apple tv', 'mac', 'iphone x', 'IPad', 'apple watch', 'mac book', 'airpods']\n",
    "print('\\n'.join(produtos))  #92 = \\\n",
    "teste = 'Matheus Rodrigues'\n",
    "t1 = teste.split()\n",
    "print(teste, t1)"
   ]
  },
  {
   "cell_type": "markdown",
   "metadata": {},
   "source": [
    "# Metodos \n",
    "\n",
    "- append -> Adiciona valor ao final<br>\n",
    "- extend -> adiciona todos os valores da lista2 na lista1<br>\n",
    "- insert -> valor em posição especifica<br>\n",
    "- remove -> remove valor da lista<br>\n",
    "- pop -> remove item -1 <br>\n",
    "- index -> retorna posição do valor<br>\n",
    "- count -> retorna a quantidade de vezes que o valor aparece<br>\n",
    "- sort -> ordena valores<br>\n",
    "- reverse -> inverte ordem<br>\n",
    "- copy -> cria cópia da lista original<br>\n",
    "- clear -> remove todos os itens da lista<br>\n"
   ]
  },
  {
   "cell_type": "markdown",
   "metadata": {},
   "source": [
    "# alterações incrementais\n",
    "\n",
    "Variavel= variavel + valor"
   ]
  },
  {
   "cell_type": "code",
   "execution_count": 2,
   "metadata": {},
   "outputs": [
    {
     "name": "stdout",
     "output_type": "stream",
     "text": [
      "2000\n"
     ]
    }
   ],
   "source": [
    "fat= 1000\n",
    "fat = fat+1000\n",
    "\n",
    "print(fat)\n",
    "\n"
   ]
  },
  {
   "cell_type": "markdown",
   "metadata": {},
   "source": [
    "# Lista de lista"
   ]
  },
  {
   "cell_type": "code",
   "execution_count": null,
   "metadata": {},
   "outputs": [],
   "source": [
    "vendedores = ['Lira', 'João', 'Diego', 'Alon']\n",
    "produtos = ['ipad', 'iphone']\n",
    "vendas = [\n",
    "    [100, 200],\n",
    "    [300, 500],\n",
    "    [50, 1000],\n",
    "    [900, 10],\n",
    "]\n",
    "\n",
    "\n",
    "# Venda Iphone de Joao\n",
    "venda_ipho_jo = vendas[1][1]\n",
    "print(venda_ipho_jo)\n",
    "\n",
    "# Total de vendas de Iphone\n",
    "vendas_Iphone = vendas[0][1] + vendas[1][1] + vendas[2][1] + vendas[3][1]\n",
    "print(vendas_Iphone)"
   ]
  },
  {
   "cell_type": "markdown",
   "metadata": {},
   "source": [
    "# Criar cópia de lista\n",
    "\n",
    "- lista2 = lista1.copy() ou lista2 = lista1[:]"
   ]
  },
  {
   "cell_type": "code",
   "execution_count": 3,
   "metadata": {},
   "outputs": [
    {
     "name": "stdout",
     "output_type": "stream",
     "text": [
      "['jan', 'fev', 'mar'] ['jan', 'fev', 'mar', 'abril']\n"
     ]
    }
   ],
   "source": [
    "lista1= ['jan','fev','mar']\n",
    "lista2 = lista1[:]\n",
    "lista2.append('abril')\n",
    "print(lista1, lista2)"
   ]
  }
 ],
 "metadata": {
  "kernelspec": {
   "display_name": "Python 3",
   "language": "python",
   "name": "python3"
  },
  "language_info": {
   "codemirror_mode": {
    "name": "ipython",
    "version": 3
   },
   "file_extension": ".py",
   "mimetype": "text/x-python",
   "name": "python",
   "nbconvert_exporter": "python",
   "pygments_lexer": "ipython3",
   "version": "3.12.3"
  }
 },
 "nbformat": 4,
 "nbformat_minor": 2
}

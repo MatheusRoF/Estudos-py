{
 "cells": [
  {
   "cell_type": "markdown",
   "metadata": {},
   "source": [
    "# Strings"
   ]
  },
  {
   "cell_type": "code",
   "execution_count": 18,
   "metadata": {},
   "outputs": [
    {
     "name": "stdout",
     "output_type": "stream",
     "text": [
      "22\n",
      "@\n",
      "mmatheus99@\n"
     ]
    }
   ],
   "source": [
    "nome = 'Matheus Rodrigues'\n",
    "email = 'mmatheus99@hotmail.com'\n",
    "\n",
    "print(len(email)) #len -> numero de caracteres\n",
    "print(email[-12]) # [] -> iten na lista / -1 começa do final\n",
    "print(email[0:11]) # 0:5 -> 0 até  o iten 5"
   ]
  },
  {
   "cell_type": "markdown",
   "metadata": {},
   "source": [
    "# Operações com string\n",
    "\n",
    ">str -> transforma número em string<br>\n",
    "in -> verifica se um texto está contido dentro do outro<br>\n",
    "operador + -> concatenar string<br>\n",
    "format e {} -> substitui valores<br>\n",
    "%s -> substitui textos<br>\n",
    "%d -> substitui números decimais<br>"
   ]
  },
  {
   "cell_type": "code",
   "execution_count": 20,
   "metadata": {},
   "outputs": [],
   "source": [
    "#Variaveis\n",
    "fat = 1000\n",
    "custo = 500\n",
    "lucro = fat-custo"
   ]
  },
  {
   "cell_type": "code",
   "execution_count": 25,
   "metadata": {},
   "outputs": [
    {
     "name": "stdout",
     "output_type": "stream",
     "text": [
      "O lucro foi de 500 e o custo foi de 500\n",
      "O faturamento foi de 1000 e o custo foi de 500\n"
     ]
    }
   ],
   "source": [
    "print('O lucro foi de {} e o custo foi de {}' .format(lucro, custo))\n",
    "\n",
    "print('O faturamento foi de %d e o custo foi de %d' %(fat, custo))\n"
   ]
  },
  {
   "cell_type": "code",
   "execution_count": 28,
   "metadata": {},
   "outputs": [
    {
     "name": "stdout",
     "output_type": "stream",
     "text": [
      "True\n"
     ]
    }
   ],
   "source": [
    "print('@' in \"mmatheus99@hotmail.com\")"
   ]
  },
  {
   "cell_type": "markdown",
   "metadata": {},
   "source": [
    "# Métodos\n",
    "\n",
    "## Estrutura:\n",
    "\n",
    "- Normalmente usamos a estrutura texto.método() para fazer as modificações que queremos\n",
    "- Alguns métodos pedem \"argumentos\", que são informações que temos que passar para a fórmula (método) para ela funcionar. Esses argumentos são passados dentro do parênteses\n",
    "\n",
    "- .capitalize -> coloca a primeira letra em maiusculo <br>\n",
    "- .casefold -> transforma tudo em minusculo <br>\n",
    "- .count -> quantas vezes um iten aparece <br>\n",
    "- .endswith -> Verifica se o texto termina com um valor específico e dá como resposta True ou False <br>\n",
    "- .find -> Procura um texto dentro de outro texto e dá como resposta a posição do texto encontrado <br>\n",
    "- .format -> Formata uma string de acordo com os valores passados<br>\n",
    "- .isalnum -> Verifica se um texto é todo feito com caracteres alfanuméricos (letras e números)<br>\n",
    "- .isalpha -> Verifica se um texto é todo feito de letras<br>\n",
    "- .isnumeric -> erifica se um texto é todo feito por números <br>\n",
    "- .replace -> Substitui um texto por um outro texto em uma string<br>\n",
    "- .split -> Separa uma string de acordo com um delimitador em vários textos diferentes<br>\n",
    "- .splitlines -> separa um texto em vários textos de acordo com os \"enters\" do texto<br>\n",
    "- .startswith -> Verifica se a string começa com determinado texto<br>\n",
    "- .strip -> Retira caracteres indesejados dos textos. Por padrão, retira espaços \"extras\" no início e no final <br>\n",
    "- .title -> Coloca a 1ª letra de cada palavra em maiúscula <br>\n",
    "- .upper -> Coloca o texto todo em letra maiúscula<br>\n",
    "\n"
   ]
  },
  {
   "cell_type": "markdown",
   "metadata": {},
   "source": [
    "# Format\n",
    "\n",
    "> :<\t\tAlinha o texto à esquerda (se tiver espaço na tela para isso) <br>\n",
    ":>\t\tAlinha o texto à direita (se tiver espaço na tela para isso) <br>\n",
    ":^\t\tAlinha o texto ao centro (se tiver espaço na tela para isso)<br>\n",
    ":+\t\tColoca o sinal sempre na frente do número (independente se é positivo ou negativo) <br>\n",
    ":,\t\tColoca a vírgula como separador de milhar <br>\n",
    ":_\t\tColoca o _ como separador de milhar <br>\n",
    ":e\t\tFormato Científico <br>\n",
    ":f\t\tNúmero com quantidade fixa de casas decimais <br>\n",
    ":x\t\tFormato HEX minúscula (para cores) <br>\n",
    ":X\t\tFormato HEX maiúscula (para cores) <br>\n",
    ":%\t\tFormato Percentual <br>\n",
    "\n"
   ]
  },
  {
   "cell_type": "code",
   "execution_count": 48,
   "metadata": {},
   "outputs": [
    {
     "name": "stdout",
     "output_type": "stream",
     "text": [
      "O email é mmatheus99@hotmail.com\n"
     ]
    }
   ],
   "source": [
    "email = 'mmatheus99@hotmail.com'\n",
    "\n",
    "print ('O email é {:>10}' .format(email))"
   ]
  },
  {
   "cell_type": "code",
   "execution_count": 59,
   "metadata": {},
   "outputs": [
    {
     "name": "stdout",
     "output_type": "stream",
     "text": [
      "O lucro foi de  400.00%\n",
      "O lucro foi de R$2000.00\n"
     ]
    }
   ],
   "source": [
    "custo = 500\n",
    "fat = 2500\n",
    "lucro = fat-custo\n",
    "\n",
    "print('O lucro foi de {: .2%}' .format(lucro/custo))\n",
    "\n",
    "print('O lucro foi de R${:.2f}' .format(lucro))"
   ]
  },
  {
   "cell_type": "markdown",
   "metadata": {},
   "source": [
    "# Corte de String"
   ]
  },
  {
   "cell_type": "code",
   "execution_count": 4,
   "metadata": {},
   "outputs": [
    {
     "name": "stdout",
     "output_type": "stream",
     "text": [
      "Jan: 25\n"
     ]
    }
   ],
   "source": [
    "preco = 'Jan: 25, Fev: 27, Mar:29'\n",
    "\n",
    "Preco_jan = preco[0:7]\n",
    "print(Preco_jan)"
   ]
  },
  {
   "cell_type": "code",
   "execution_count": 8,
   "metadata": {},
   "outputs": [
    {
     "name": "stdout",
     "output_type": "stream",
     "text": [
      "92:raM ,72 :veF ,52 :naJ\n"
     ]
    }
   ],
   "source": [
    "preco = 'Jan: 25, Fev: 27, Mar:29'\n",
    "\n",
    "Preco_jan = preco[::-1] ##::estepe ->pula\n",
    "print(Preco_jan)"
   ]
  }
 ],
 "metadata": {
  "kernelspec": {
   "display_name": "Python 3",
   "language": "python",
   "name": "python3"
  },
  "language_info": {
   "codemirror_mode": {
    "name": "ipython",
    "version": 3
   },
   "file_extension": ".py",
   "mimetype": "text/x-python",
   "name": "python",
   "nbconvert_exporter": "python",
   "pygments_lexer": "ipython3",
   "version": "3.12.3"
  }
 },
 "nbformat": 4,
 "nbformat_minor": 2
}

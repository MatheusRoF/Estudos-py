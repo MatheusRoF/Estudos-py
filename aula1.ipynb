{
 "cells": [
  {
   "cell_type": "code",
   "execution_count": 55,
   "metadata": {},
   "outputs": [],
   "source": [
    "# Operações básicas"
   ]
  },
  {
   "cell_type": "code",
   "execution_count": 56,
   "metadata": {},
   "outputs": [
    {
     "name": "stdout",
     "output_type": "stream",
     "text": [
      "3\n",
      "2\n",
      "2.6\n",
      "12\n",
      "8\n",
      "20\n"
     ]
    }
   ],
   "source": [
    "print(13%5) #resto\n",
    "print(13//5) #parte inteira\n",
    "print(13/5) #divisão\n",
    "print(10+2) #soma\n",
    "print(10-2) #subtração\n",
    "print(10*2) #multiplicação"
   ]
  },
  {
   "cell_type": "code",
   "execution_count": 57,
   "metadata": {},
   "outputs": [
    {
     "name": "stdout",
     "output_type": "stream",
     "text": [
      "Meu nome é Matheus\n",
      "True\n"
     ]
    }
   ],
   "source": [
    "# Operações com string\n",
    "print('Meu nome é'+' Matheus') #Concatenação\n",
    "print('M' in 'Matheus') #Verificar. Case sensitive\n"
   ]
  },
  {
   "cell_type": "code",
   "execution_count": 58,
   "metadata": {},
   "outputs": [
    {
     "name": "stdout",
     "output_type": "stream",
     "text": [
      "Você tem R$ 1500 em vendas\n",
      "Matheus\n"
     ]
    }
   ],
   "source": [
    "# Variaveis\n",
    "vendas = 1500 #recebe valor\n",
    "print(\"Você tem R$\", vendas, \"em vendas\")\n",
    "\n",
    "nome = 'Matheus'\n",
    "print(nome) "
   ]
  },
  {
   "cell_type": "code",
   "execution_count": 61,
   "metadata": {},
   "outputs": [
    {
     "name": "stdout",
     "output_type": "stream",
     "text": [
      "Seu nome é: Matheus\n"
     ]
    }
   ],
   "source": [
    "#Metodos de input\n",
    "input('Qual seu nome?') #Pedir dado\n",
    "nome1=input ('Qual seu nome?') # Armazener valor\n",
    "print('Seu nome é:',nome1) #Imprimir valor"
   ]
  },
  {
   "cell_type": "markdown",
   "metadata": {},
   "source": [
    "# Tipos de variaveis\n",
    "int <br> \n",
    "string <br> \n",
    "float <br> \n",
    "bool ou boolean <br>"
   ]
  },
  {
   "cell_type": "markdown",
   "metadata": {},
   "source": [
    "# Palavras Restritas\n",
    "\n",
    "abs <br>\n",
    "all <br>\n",
    "and <br>\n",
    "any <br>\n",
    "as <br>\n",
    "ascii <br>\n",
    "assert <br> \n",
    "bin <br>\n",
    "bool <br>\n",
    "break <br>\n",
    "breakpoint <br>\n",
    "bytearray <br>\n",
    "bytes <br>\n",
    "callable <br>\n",
    "chr <br>\n",
    "class <br>\n",
    "classmethod <br>\n",
    "compile <br>\n",
    "complex <br>\n",
    "continue <br>\n",
    "def -> define função<br>\n",
    "del <br>\n",
    "delattr <br>\n",
    "dict <br>\n",
    "dir <br>\n",
    "divmod <br>\n",
    "elif <br>\n",
    "else <br>\n",
    "enumerate <br>\n",
    "eval <br>\n",
    "except <br>\n",
    "exec <br>\n",
    "False <br>\n",
    "filter <br>\n",
    "finally <br>\n",
    "float <br>\n",
    "for <br>\n",
    "format <br>\n",
    "from <br>\n",
    "frozenset <br>\n",
    "getattr <br>\n",
    "global <br>\n",
    "globals <br>\n",
    "hasattr <br>\n",
    "hash <br>\n",
    "help <br>\n",
    "hex <br>\n",
    "id <br>\n",
    "if <br>\n",
    "import <br>\n",
    "in -> verifica presença<br>\n",
    "input <br>\n",
    "int <br>\n",
    "is <br>\n",
    "isinstance <br>\n",
    "issubclass <br>\n",
    "iter <br>\n",
    "lambda <br>\n",
    "len <br>\n",
    "list <br>\n",
    "locals <br>\n",
    "map <br>\n",
    "max <br>\n",
    "memoryview <br>\n",
    "min <br>\n",
    "next <br>\n",
    "None <br>\n",
    "nonlocal <br>\n",
    "not <br>\n",
    "object <br> \n",
    "oct <br>\n",
    "open <br>\n",
    "or <br>\n",
    "ord <br>\n",
    "pass <br>\n",
    "pow <br>\n",
    "print <br>\n",
    "property <br>\n",
    "raise <br>\n",
    "range <br>\n",
    "repr <br>\n",
    "return <br>\n",
    "reversed <br>\n",
    "round <br>\n",
    "set <br>\n",
    "setattr <br>\n",
    "slice <br>\n",
    "sorted <br>\n",
    "staticmethod <br>\n",
    "str <br>\n",
    "sum <br>\n",
    "super <br>\n",
    "True <br>\n",
    "try <br>\n",
    "tuple <br>\n",
    "type -> retorna qual o tipo da variável<br>\n",
    "vars <br>\n",
    "while <br>\n",
    "with <br>\n",
    "yield <br>\n",
    "zip <br>"
   ]
  }
 ],
 "metadata": {
  "kernelspec": {
   "display_name": "Python 3",
   "language": "python",
   "name": "python3"
  },
  "language_info": {
   "codemirror_mode": {
    "name": "ipython",
    "version": 3
   },
   "file_extension": ".py",
   "mimetype": "text/x-python",
   "name": "python",
   "nbconvert_exporter": "python",
   "pygments_lexer": "ipython3",
   "version": "3.12.3"
  }
 },
 "nbformat": 4,
 "nbformat_minor": 2
}

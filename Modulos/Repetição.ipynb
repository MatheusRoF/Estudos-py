{
 "cells": [
  {
   "cell_type": "markdown",
   "metadata": {},
   "source": [
    "# FOR\n",
    "\n",
    "- obs: for ''each''"
   ]
  },
  {
   "cell_type": "markdown",
   "metadata": {},
   "source": [
    "for in range(n):\n",
    "    repetir codigo n vezes"
   ]
  },
  {
   "cell_type": "code",
   "execution_count": 2,
   "metadata": {},
   "outputs": [
    {
     "name": "stdout",
     "output_type": "stream",
     "text": [
      "15000 unidades produzidas de coca\n",
      "12000 unidades produzidas de pepsi\n",
      "13000 unidades produzidas de guarana\n",
      "5000 unidades produzidas de sprite\n",
      "250 unidades produzidas de fanta\n"
     ]
    }
   ],
   "source": [
    "produtos = ['coca', 'pepsi', 'guarana', 'sprite', 'fanta']\n",
    "producao = [15000, 12000, 13000, 5000, 250]\n",
    "\n",
    "for i in range(5):\n",
    "    print('{} unidades produzidas de {}' .format(producao[i], produtos[i]))"
   ]
  },
  {
   "cell_type": "markdown",
   "metadata": {},
   "source": [
    "# for + if"
   ]
  },
  {
   "cell_type": "code",
   "execution_count": 6,
   "metadata": {},
   "outputs": [
    {
     "name": "stdout",
     "output_type": "stream",
     "text": [
      "1\n",
      "2\n",
      "3\n",
      "4\n"
     ]
    }
   ],
   "source": [
    "producao = [15000, 12000, 13000, 5000, 250]\n",
    "meta = 1000\n",
    "\n",
    "quanti_bateu_meta = 0\n",
    "\n",
    "for produca in producao:\n",
    "    if produca >= meta:\n",
    "        quanti_bateu_meta += 1\n",
    "\n",
    "        print(quanti_bateu_meta)"
   ]
  },
  {
   "cell_type": "markdown",
   "metadata": {},
   "source": [
    "# Enumerate\n",
    "\n",
    "permite percorrer lista e ao mesmo tempo tenha uma variavel o indice do item"
   ]
  },
  {
   "cell_type": "code",
   "execution_count": 8,
   "metadata": {},
   "outputs": [
    {
     "name": "stdout",
     "output_type": "stream",
     "text": [
      "0 é o funcionário Maria\n",
      "1 é o funcionário José\n",
      "2 é o funcionário Antônio\n",
      "3 é o funcionário João\n",
      "4 é o funcionário Francisco\n",
      "5 é o funcionário Ana\n",
      "6 é o funcionário Luiz\n",
      "7 é o funcionário Paulo\n",
      "8 é o funcionário Carlos\n",
      "9 é o funcionário Manoel\n",
      "10 é o funcionário Pedro\n",
      "11 é o funcionário Francisca\n",
      "12 é o funcionário Marcos\n",
      "13 é o funcionário Raimundo\n",
      "14 é o funcionário Sebastião\n",
      "15 é o funcionário Antônia\n",
      "16 é o funcionário Marcelo\n",
      "17 é o funcionário Jorge\n",
      "18 é o funcionário Márcia\n",
      "19 é o funcionário Geraldo\n",
      "20 é o funcionário Adriana\n",
      "21 é o funcionário Sandra\n",
      "22 é o funcionário Luis\n"
     ]
    }
   ],
   "source": [
    "# funcionarios = ['Maria', 'José', 'Antônio', 'João', 'Francisco', 'Ana', 'Luiz', 'Paulo', 'Carlos', 'Manoel', 'Pedro', 'Francisca', 'Marcos', 'Raimundo', 'Sebastião', 'Antônia', 'Marcelo', 'Jorge', 'Márcia', 'Geraldo', 'Adriana', 'Sandra', 'Luis']\n",
    "# for funcionario in funcionarios:\n",
    "#     print(funcionario)\n",
    "\n",
    "funcionarios = ['Maria', 'José', 'Antônio', 'João', 'Francisco', 'Ana', 'Luiz', 'Paulo', 'Carlos', 'Manoel', 'Pedro', 'Francisca', 'Marcos', 'Raimundo', 'Sebastião', 'Antônia', 'Marcelo', 'Jorge', 'Márcia', 'Geraldo', 'Adriana', 'Sandra', 'Luis']\n",
    "\n",
    "for i, funcionario in enumerate(funcionarios):\n",
    "    print('{} é o funcionário {}'.format(i, funcionario))"
   ]
  },
  {
   "cell_type": "code",
   "execution_count": 30,
   "metadata": {},
   "outputs": [
    {
     "name": "stdout",
     "output_type": "stream",
     "text": [
      "O produto dolly está abaixo do minimo com 20 unidades.\n",
      "O produto red bull está abaixo do minimo com 23 unidades.\n"
     ]
    }
   ],
   "source": [
    "estoque = [1200, 300, 800, 1500, 1900, 2750, 400, 20, 23, 70, 90, 80, 1100, 999, 900, 880, 870, 50, 1111, 120, 300, 450, 800]\n",
    "produtos = ['coca', 'pepsi', 'guarana', 'skol', 'brahma', 'agua', 'del valle', 'dolly', 'red bull', 'cachaça', 'vinho tinto', 'vodka', 'vinho branco', 'tequila', 'champagne', 'gin', 'guaracamp', 'matte', 'leite de castanha', 'leite', 'jurupinga', 'sprite', 'fanta']\n",
    "nivel_minimo = 50\n",
    "\n",
    "# Verificar quais produtos precisam ser comprados\n",
    "\n",
    "for i, qtde in enumerate(estoque):\n",
    "    if qtde < nivel_minimo:\n",
    "        print('O produto {} está abaixo do minimo com {} unidades.'.format(produtos[i], qtde))"
   ]
  },
  {
   "cell_type": "code",
   "execution_count": 33,
   "metadata": {},
   "outputs": [
    {
     "name": "stdout",
     "output_type": "stream",
     "text": [
      "produto 1: coca\n",
      "produto 2: pepsi\n",
      "produto 3: guarana\n",
      "produto 4: skol\n",
      "produto 5: brahma\n",
      "produto 6: agua\n",
      "produto 7: del valle\n",
      "produto 8: dolly\n",
      "produto 9: red bull\n",
      "produto 10: cachaça\n",
      "produto 11: vinho tinto\n",
      "produto 12: vodka\n",
      "produto 13: vinho branco\n",
      "produto 14: tequila\n",
      "produto 15: champagne\n",
      "produto 16: gin\n",
      "produto 17: guaracamp\n",
      "produto 18: matte\n",
      "produto 19: leite de castanha\n",
      "produto 20: leite\n",
      "produto 21: jurupinga\n",
      "produto 22: sprite\n",
      "produto 23: fanta\n"
     ]
    }
   ],
   "source": [
    "# percorrendo tamanho da lista\n",
    "produtos = ['coca', 'pepsi', 'guarana', 'skol', 'brahma', 'agua', 'del valle', 'dolly', 'red bull', 'cachaça', 'vinho tinto', 'vodka', 'vinho branco', 'tequila', 'champagne', 'gin', 'guaracamp', 'matte', 'leite de castanha', 'leite', 'jurupinga', 'sprite', 'fanta']\n",
    "\n",
    "for i in range(len(produtos)):\n",
    "    print(f'produto {i+1}: {produtos[i]}')"
   ]
  },
  {
   "cell_type": "code",
   "execution_count": 1,
   "metadata": {},
   "outputs": [
    {
     "name": "stdout",
     "output_type": "stream",
     "text": [
      "Lira Manufacturing\n",
      "Lira Manufacturing\n",
      "Fábrica Hashtag\n",
      "Fábrica Hashtag\n",
      "Fábrica Hashtag\n",
      "Python Manufaturas\n"
     ]
    }
   ],
   "source": [
    "# for dentro do for\n",
    "# percorrer lista dentro de lista\n",
    "\n",
    "estoque = [\n",
    "    [294, 125, 269, 208, 783, 852, 259, 371, 47, 102, 386, 87, 685, 686, 697, 941, 163, 631, 7, 714, 218, 670, 453],\n",
    "    [648, 816, 310, 555, 992, 643, 226, 319, 501, 23, 239, 42, 372, 441, 126, 645, 927, 911, 761, 445, 974, 2, 549],\n",
    "    [832, 683, 784, 449, 977, 705, 198, 937, 729, 327, 339, 10, 975, 310, 95, 689, 137, 795, 211, 538, 933, 751, 522],\n",
    "    [837, 168, 570, 397, 53, 297, 966, 714, 72, 737, 259, 629, 625, 469, 922, 305, 782, 243, 841, 848, 372, 621, 362],\n",
    "    [429, 242, 53, 985, 406, 186, 198, 50, 501, 870, 781, 632, 781, 105, 644, 509, 401, 88, 961, 765, 422, 340, 654],\n",
    "]\n",
    "fabricas = ['Lira Manufacturing', 'Fábrica Hashtag', 'Python Manufaturas', 'Produções e Cia', 'Manufatura e Cia']\n",
    "nivel_minimo = 50\n",
    "\n",
    "for i, lista in enumerate(estoque):\n",
    "    #se dentro daquela lista tem alguem abaixo do nível minimo\n",
    "    for qtde in lista:\n",
    "        if qtde < nivel_minimo:\n",
    "            print(fabricas[i])\n",
    "\n",
    "            "
   ]
  },
  {
   "cell_type": "code",
   "execution_count": null,
   "metadata": {},
   "outputs": [],
   "source": []
  }
 ],
 "metadata": {
  "kernelspec": {
   "display_name": "Python 3",
   "language": "python",
   "name": "python3"
  },
  "language_info": {
   "codemirror_mode": {
    "name": "ipython",
    "version": 3
   },
   "file_extension": ".py",
   "mimetype": "text/x-python",
   "name": "python",
   "nbconvert_exporter": "python",
   "pygments_lexer": "ipython3",
   "version": "3.12.4"
  }
 },
 "nbformat": 4,
 "nbformat_minor": 2
}

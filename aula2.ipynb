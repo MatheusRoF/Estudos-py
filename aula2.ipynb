{
 "cells": [
  {
   "cell_type": "markdown",
   "metadata": {},
   "source": [
    "# Condições\n",
    "\n",
    "## IF(se)\n",
    "\n",
    "if condição:<br>\n",
    "    -verdadeira<br>\n",
    "    -outra<br>\n",
    "    -outra<br>\n",
    "    -alguma outra<br>\n",
    "\n",
    "## ELSE (se nao)\n",
    "\n",
    "else:<br>\n",
    "    -outra<br>\n",
    "    -outra<br>\n",
    "    -final<br>\n",
    "\n",
    "## ELIF (Acrescimo de if)"
   ]
  },
  {
   "cell_type": "code",
   "execution_count": 1,
   "metadata": {},
   "outputs": [
    {
     "name": "stdout",
     "output_type": "stream",
     "text": [
      "Meta batida\n"
     ]
    }
   ],
   "source": [
    "meta = 50\n",
    "quant = 50\n",
    "\n",
    "if quant>meta or quant ==meta:\n",
    "    print('Meta batida')\n",
    "\n",
    "#if quant==meta:\n",
    "    #print('Meta no limite')\n",
    "\n",
    "else:\n",
    "    print('Meta não batida')\n",
    "\n",
    "    #obs: 'pass'\n",
    "    # 'And' e 'Or' pode ser usado com condicional"
   ]
  },
  {
   "cell_type": "markdown",
   "metadata": {},
   "source": [
    "# comparadores:\n",
    "\n",
    ">'==' -> igual <br>\n",
    "'!=' -> diferente <br>\n",
    "'>' -> maior <br>\n",
    "'<' -> menor <br>\n",
    "'>=' -> maior ou igual <br>\n",
    "'<=' -> menor ou igual <br>\n",
    "'in' -> texto existe dentro de outro texto <br>\n",
    "'not' -> verifica o contrario da comparação\n"
   ]
  },
  {
   "cell_type": "markdown",
   "metadata": {},
   "source": [
    "# Comparações contraintuitivas\n",
    "\n",
    "> comparação com texto vazio<br>\n",
    " comparação com texto nulo<br>\n"
   ]
  }
 ],
 "metadata": {
  "kernelspec": {
   "display_name": "Python 3",
   "language": "python",
   "name": "python3"
  },
  "language_info": {
   "codemirror_mode": {
    "name": "ipython",
    "version": 3
   },
   "file_extension": ".py",
   "mimetype": "text/x-python",
   "name": "python",
   "nbconvert_exporter": "python",
   "pygments_lexer": "ipython3",
   "version": "3.12.3"
  }
 },
 "nbformat": 4,
 "nbformat_minor": 2
}
